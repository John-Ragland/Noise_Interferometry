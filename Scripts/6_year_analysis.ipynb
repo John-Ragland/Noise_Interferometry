{
 "cells": [
  {
   "cell_type": "markdown",
   "metadata": {},
   "source": [
    "# 6 Year Analysis\n",
    "- Loads 6 years of NCCFs into NCCF_array object\n",
    "- saves object to .pkl file\n",
    "- calculates SNR plots for every peak over 6 years"
   ]
  },
  {
   "cell_type": "code",
   "execution_count": 1,
   "metadata": {},
   "outputs": [],
   "source": [
    "import os\n",
    "import sys\n",
    "\n",
    "from matplotlib import pyplot as plt\n",
    "import datetime\n",
    "import numpy as np\n",
    "import pickle\n",
    "import scipy\n",
    "import seaborn as sns\n",
    "import progressbar\n",
    "\n",
    "from Noise_Interferometry.Modules import analysis\n",
    "\n",
    "# Some more magic so that the notebook will reload external python modules;\n",
    "# see http://stackoverflow.com/questions/1907993/autoreload-of-modules-in-ipython\n",
    "%load_ext autoreload\n",
    "%autoreload 2"
   ]
  },
  {
   "cell_type": "code",
   "execution_count": 5,
   "metadata": {},
   "outputs": [
    {
     "name": "stdout",
     "output_type": "stream",
     "text": [
      "100.0%%\r"
     ]
    }
   ],
   "source": [
    "file_name = \"/Volumes/Ocean_Acoustics/NCCFs/MJ03F-MJ03E/all_years\"\n",
    "exp1 = analysis.NCCF_experiment(file_name, verbose=False)\n",
    "\n",
    "NCCFs = exp1.MA_TDGF(201,1,start_hour=0,end_hour=300)"
   ]
  },
  {
   "cell_type": "code",
   "execution_count": null,
   "metadata": {},
   "outputs": [],
   "source": [
    "# Write to pickle file\n",
    "file_name = \"/Volumes/Ocean_Acoustics/NCCFs/MJ03F-MJ03E/long_term_MA_allYears_201.pkl\""
   ]
  },
  {
   "cell_type": "code",
   "execution_count": null,
   "metadata": {},
   "outputs": [],
   "source": []
  }
 ],
 "metadata": {
  "kernelspec": {
   "display_name": "Python 3",
   "language": "python",
   "name": "python3"
  },
  "language_info": {
   "codemirror_mode": {
    "name": "ipython",
    "version": 3
   },
   "file_extension": ".py",
   "mimetype": "text/x-python",
   "name": "python",
   "nbconvert_exporter": "python",
   "pygments_lexer": "ipython3",
   "version": "3.7.7"
  }
 },
 "nbformat": 4,
 "nbformat_minor": 4
}

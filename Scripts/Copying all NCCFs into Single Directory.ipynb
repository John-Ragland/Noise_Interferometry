{
 "cells": [
  {
   "cell_type": "markdown",
   "metadata": {},
   "source": [
    "# Copying NCCF Files\n",
    "This notebook takes seperate NCCFs for a range of years and copies them into a single directory, indexed by the number of hours since the start of the first year."
   ]
  },
  {
   "cell_type": "code",
   "execution_count": 18,
   "metadata": {},
   "outputs": [],
   "source": [
    "import os\n",
    "import Noise_Interferometry\n",
    "from shutil import copyfile\n",
    "import numpy as np"
   ]
  },
  {
   "cell_type": "code",
   "execution_count": 19,
   "metadata": {},
   "outputs": [],
   "source": [
    "def rename_files(start_year=2015, end_year=2020, dest_dir='/Volumes/Ocean_Acoustics/NCCFs/MJ03F-MJ03E/all_years/'):\n",
    "    years = np.arange(start_year, end_year+1)\n",
    "    \n",
    "    count = 0\n",
    "    \n",
    "    for year in years:\n",
    "        source = f'/Volumes/Ocean_Acoustics/NCCFs/MJ03F-MJ03E/{year}/'\n",
    "        # Move Header File\n",
    "        copyfile(source+'0HEADER.pkl', dest_dir+f'0HEADER_{year}.pkl')\n",
    "        # Move all files for year\n",
    "        if year % 4 ==0:\n",
    "            num_hours = 366*24\n",
    "        else:\n",
    "            num_hours = 365*24\n",
    "        for k in range(num_hours):\n",
    "            file = source + f'{k:04}.pkl'\n",
    "            dst = dest_dir + f'{count:05}.pkl'\n",
    "            \n",
    "            try:\n",
    "                copyfile(file, dst)\n",
    "                count += 1\n",
    "            except:\n",
    "                count += 1\n",
    "                continue\n",
    "            \n",
    "            if k % 100 == 0:\n",
    "                print(count/(num_hours*6), end='\\r')\n",
    "    return"
   ]
  },
  {
   "cell_type": "code",
   "execution_count": 20,
   "metadata": {},
   "outputs": [
    {
     "name": "stdout",
     "output_type": "stream",
     "text": [
      "0.996603673345476676\r"
     ]
    }
   ],
   "source": [
    "rename_files()"
   ]
  },
  {
   "cell_type": "markdown",
   "metadata": {},
   "source": [
    "## Determine Length of filename for directory"
   ]
  },
  {
   "cell_type": "code",
   "execution_count": 53,
   "metadata": {},
   "outputs": [
    {
     "data": {
      "text/plain": [
       "5"
      ]
     },
     "execution_count": 53,
     "metadata": {},
     "output_type": "execute_result"
    }
   ],
   "source": [
    "files = os.listdir('/Volumes/Ocean_Acoustics/NCCFs/MJ03F-MJ03E/all_years/')\n",
    "\n",
    "idxs = []\n",
    "for idx, file in enumerate(files):\n",
    "    if 'HEADER' in file:\n",
    "        idxs.append(idx)\n",
    "\n",
    "# Delete Header Files\n",
    "for idx in reversed(idxs):\n",
    "    del files[idx]\n",
    "    \n",
    "len(files[0])-4"
   ]
  },
  {
   "cell_type": "code",
   "execution_count": 48,
   "metadata": {},
   "outputs": [],
   "source": []
  },
  {
   "cell_type": "code",
   "execution_count": 46,
   "metadata": {},
   "outputs": [
    {
     "name": "stdout",
     "output_type": "stream",
     "text": [
      "header found\n",
      "header found\n",
      "header found\n",
      "header found\n",
      "header found\n",
      "header found\n"
     ]
    }
   ],
   "source": [
    "idxs = []\n",
    "for idx, file in enumerate(files):\n",
    "    if 'HEADER' in file:\n",
    "        print('header found')"
   ]
  },
  {
   "cell_type": "code",
   "execution_count": 55,
   "metadata": {},
   "outputs": [
    {
     "ename": "ValueError",
     "evalue": "Invalid format specifier",
     "output_type": "error",
     "traceback": [
      "\u001b[0;31m---------------------------------------------------------------------------\u001b[0m",
      "\u001b[0;31mValueError\u001b[0m                                Traceback (most recent call last)",
      "\u001b[0;32m<ipython-input-55-64beae1a9a4f>\u001b[0m in \u001b[0;36m<module>\u001b[0;34m\u001b[0m\n\u001b[1;32m      2\u001b[0m \u001b[0mj\u001b[0m \u001b[0;34m=\u001b[0m \u001b[0;36m4\u001b[0m\u001b[0;34m\u001b[0m\u001b[0;34m\u001b[0m\u001b[0m\n\u001b[1;32m      3\u001b[0m \u001b[0;34m\u001b[0m\u001b[0m\n\u001b[0;32m----> 4\u001b[0;31m \u001b[0mprint\u001b[0m\u001b[0;34m(\u001b[0m\u001b[0;34mf'test {k:0(j)}'\u001b[0m\u001b[0;34m)\u001b[0m\u001b[0;34m\u001b[0m\u001b[0;34m\u001b[0m\u001b[0m\n\u001b[0m",
      "\u001b[0;31mValueError\u001b[0m: Invalid format specifier"
     ]
    }
   ],
   "source": [
    "k = 2\n",
    "j = 4"
   ]
  },
  {
   "cell_type": "code",
   "execution_count": null,
   "metadata": {},
   "outputs": [],
   "source": []
  }
 ],
 "metadata": {
  "kernelspec": {
   "display_name": "Python 3",
   "language": "python",
   "name": "python3"
  },
  "language_info": {
   "codemirror_mode": {
    "name": "ipython",
    "version": 3
   },
   "file_extension": ".py",
   "mimetype": "text/x-python",
   "name": "python",
   "nbconvert_exporter": "python",
   "pygments_lexer": "ipython3",
   "version": "3.7.7"
  }
 },
 "nbformat": 4,
 "nbformat_minor": 4
}

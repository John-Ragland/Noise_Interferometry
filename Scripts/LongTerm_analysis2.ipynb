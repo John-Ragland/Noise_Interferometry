{
 "cells": [
  {
   "cell_type": "code",
   "execution_count": 1,
   "metadata": {},
   "outputs": [],
   "source": [
    "import Noise_Interferometry\n",
    "import pickle\n",
    "from matplotlib import pyplot as plt\n",
    "import numpy as np\n",
    "import pandas as pd\n",
    "import seaborn as sns\n",
    "\n",
    "# Some more magic so that the notebook will reload external python modules;\n",
    "# see http://stackoverflow.com/questions/1907993/autoreload-of-modules-in-ipython\n",
    "%load_ext autoreload\n",
    "%autoreload 2"
   ]
  },
  {
   "cell_type": "code",
   "execution_count": 7,
   "metadata": {},
   "outputs": [
    {
     "name": "stdout",
     "output_type": "stream",
     "text": [
      "Loading 2015...\n"
     ]
    },
    {
     "name": "stderr",
     "output_type": "stream",
     "text": [
      "/Users/jhrag/Code/ocean_acoustics/Noise_Interferometry/Modules/analysis.py:1200: UserWarning: Peak index jumps more than 3 in single step\n",
      "  warnings.warn('Peak index jumps more than 3 in single step')\n"
     ]
    },
    {
     "name": "stdout",
     "output_type": "stream",
     "text": [
      "Loading 2016...\n",
      "Loading 2017...\n",
      "Loading 2018...\n",
      "Loading 2019...\n",
      "Loading 2020...\n"
     ]
    }
   ],
   "source": [
    "years = [2015, 2016, 2017, 2018, 2019, 2020]\n",
    "\n",
    "SNRs = []\n",
    "peak_idxs = []\n",
    "noise_stds = []\n",
    "dates = []\n",
    "num_availables = []\n",
    "\n",
    "SNR_dict = {}\n",
    "peak_idxs_dict = {}\n",
    "\n",
    "peak_names = ['dA','s1b0A','s2b1A','dB','s1b0B','s2b1B']\n",
    "avg_time = 201\n",
    "\n",
    "\n",
    "for year in years:\n",
    "    print(f'Loading {year}...')\n",
    "    file_name = f'/Volumes/Ocean_Acoustics/NCCFs/MJ03F-MJ03E/Longterm_MA_{year}_{avg_time}.pkl'\n",
    "    long_term = pickle.load(open(file_name,'rb'))\n",
    "    dates.append(long_term.dates)\n",
    "    num_availables.append(np.array(long_term.num_available))\n",
    "    \n",
    "    for peak_name in peak_names:\n",
    "        \n",
    "        SNR, peak_idx,_ = long_term.snr_of_peak_amp(peak_name)\n",
    "        SNRs.append(SNR)\n",
    "        SNR_dict[peak_name] = SNRs\n",
    "        \n",
    "        peak_idxs.append(peak_idx)\n",
    "        peak_idxs_dict[peak_name] = peak_idxs\n"
   ]
  },
  {
   "cell_type": "code",
   "execution_count": 8,
   "metadata": {},
   "outputs": [],
   "source": [
    "peak_name = 's1b0A'"
   ]
  },
  {
   "cell_type": "markdown",
   "metadata": {},
   "source": [
    "### Set Number of Hours Threshold to 100 and create SNR masked arrays"
   ]
  },
  {
   "cell_type": "code",
   "execution_count": 13,
   "metadata": {},
   "outputs": [
    {
     "data": {
      "text/plain": [
       "array([        nan,         nan,         nan, ..., 24.21383672,\n",
       "       24.18978264, 24.18640142])"
      ]
     },
     "execution_count": 13,
     "metadata": {},
     "output_type": "execute_result"
    }
   ],
   "source": [
    "SNR_dict[peak_name][0]"
   ]
  },
  {
   "cell_type": "code",
   "execution_count": 9,
   "metadata": {},
   "outputs": [
    {
     "ename": "MaskError",
     "evalue": "Mask and data not compatible: data size is 8560, mask size is 8584.",
     "output_type": "error",
     "traceback": [
      "\u001b[0;31m---------------------------------------------------------------------------\u001b[0m",
      "\u001b[0;31mMaskError\u001b[0m                                 Traceback (most recent call last)",
      "\u001b[0;32m<ipython-input-9-7b7f0248be54>\u001b[0m in \u001b[0;36m<module>\u001b[0;34m\u001b[0m\n\u001b[1;32m      4\u001b[0m \u001b[0;32mfor\u001b[0m \u001b[0mk\u001b[0m \u001b[0;32min\u001b[0m \u001b[0mrange\u001b[0m\u001b[0;34m(\u001b[0m\u001b[0;36m6\u001b[0m\u001b[0;34m)\u001b[0m\u001b[0;34m:\u001b[0m\u001b[0;34m\u001b[0m\u001b[0;34m\u001b[0m\u001b[0m\n\u001b[1;32m      5\u001b[0m     \u001b[0mmask\u001b[0m\u001b[0;34m.\u001b[0m\u001b[0mappend\u001b[0m\u001b[0;34m(\u001b[0m\u001b[0;34m~\u001b[0m\u001b[0;34m(\u001b[0m\u001b[0mnum_availables\u001b[0m\u001b[0;34m[\u001b[0m\u001b[0mk\u001b[0m\u001b[0;34m]\u001b[0m \u001b[0;34m>=\u001b[0m \u001b[0mthreshold\u001b[0m\u001b[0;34m)\u001b[0m\u001b[0;34m)\u001b[0m\u001b[0;34m\u001b[0m\u001b[0;34m\u001b[0m\u001b[0m\n\u001b[0;32m----> 6\u001b[0;31m     \u001b[0mSNRs_mask\u001b[0m\u001b[0;34m.\u001b[0m\u001b[0mappend\u001b[0m\u001b[0;34m(\u001b[0m\u001b[0mnp\u001b[0m\u001b[0;34m.\u001b[0m\u001b[0mma\u001b[0m\u001b[0;34m.\u001b[0m\u001b[0mmasked_array\u001b[0m\u001b[0;34m(\u001b[0m\u001b[0mSNR_dict\u001b[0m\u001b[0;34m[\u001b[0m\u001b[0mpeak_name\u001b[0m\u001b[0;34m]\u001b[0m\u001b[0;34m[\u001b[0m\u001b[0mk\u001b[0m\u001b[0;34m]\u001b[0m\u001b[0;34m,\u001b[0m\u001b[0mmask\u001b[0m\u001b[0;34m=\u001b[0m\u001b[0mmask\u001b[0m\u001b[0;34m[\u001b[0m\u001b[0mk\u001b[0m\u001b[0;34m]\u001b[0m\u001b[0;34m)\u001b[0m\u001b[0;34m)\u001b[0m\u001b[0;34m\u001b[0m\u001b[0;34m\u001b[0m\u001b[0m\n\u001b[0m",
      "\u001b[0;32m~/opt/anaconda3/envs/ooi_dev/lib/python3.7/site-packages/numpy/ma/core.py\u001b[0m in \u001b[0;36m__new__\u001b[0;34m(cls, data, mask, dtype, copy, subok, ndmin, fill_value, keep_mask, hard_mask, shrink, order, **options)\u001b[0m\n\u001b[1;32m   2870\u001b[0m                     \u001b[0mmsg\u001b[0m \u001b[0;34m=\u001b[0m \u001b[0;34m\"Mask and data not compatible: data size is %i, \"\u001b[0m \u001b[0;34m+\u001b[0m\u001b[0;31m \u001b[0m\u001b[0;31m\\\u001b[0m\u001b[0;34m\u001b[0m\u001b[0;34m\u001b[0m\u001b[0m\n\u001b[1;32m   2871\u001b[0m                           \u001b[0;34m\"mask size is %i.\"\u001b[0m\u001b[0;34m\u001b[0m\u001b[0;34m\u001b[0m\u001b[0m\n\u001b[0;32m-> 2872\u001b[0;31m                     \u001b[0;32mraise\u001b[0m \u001b[0mMaskError\u001b[0m\u001b[0;34m(\u001b[0m\u001b[0mmsg\u001b[0m \u001b[0;34m%\u001b[0m \u001b[0;34m(\u001b[0m\u001b[0mnd\u001b[0m\u001b[0;34m,\u001b[0m \u001b[0mnm\u001b[0m\u001b[0;34m)\u001b[0m\u001b[0;34m)\u001b[0m\u001b[0;34m\u001b[0m\u001b[0;34m\u001b[0m\u001b[0m\n\u001b[0m\u001b[1;32m   2873\u001b[0m                 \u001b[0mcopy\u001b[0m \u001b[0;34m=\u001b[0m \u001b[0;32mTrue\u001b[0m\u001b[0;34m\u001b[0m\u001b[0;34m\u001b[0m\u001b[0m\n\u001b[1;32m   2874\u001b[0m             \u001b[0;31m# Set the mask to the new value\u001b[0m\u001b[0;34m\u001b[0m\u001b[0;34m\u001b[0m\u001b[0;34m\u001b[0m\u001b[0m\n",
      "\u001b[0;31mMaskError\u001b[0m: Mask and data not compatible: data size is 8560, mask size is 8584."
     ]
    }
   ],
   "source": [
    "threshold = 100\n",
    "mask = []\n",
    "SNRs_mask = []\n",
    "for k in range(6):\n",
    "    mask.append(~(num_availables[k] >= threshold))\n",
    "    SNRs_mask.append(np.ma.masked_array(SNR_dict[peak_name][k],mask=mask[k]))"
   ]
  },
  {
   "cell_type": "code",
   "execution_count": 10,
   "metadata": {},
   "outputs": [
    {
     "data": {
      "text/plain": [
       "(8560,)"
      ]
     },
     "execution_count": 10,
     "metadata": {},
     "output_type": "execute_result"
    }
   ],
   "source": [
    "SNRs_mask[0].shape"
   ]
  },
  {
   "cell_type": "code",
   "execution_count": null,
   "metadata": {},
   "outputs": [],
   "source": [
    "fig, axes = plt.subplots(2,3,figsize=(15,5))\n",
    "k = 0\n",
    "for ax in fig.get_axes():\n",
    "    ax.plot(dates[k], SNRs_mask[k])\n",
    "\n",
    "    plt.sca(ax)\n",
    "    plt.grid()\n",
    "    plt.title(f'SNR for {years[k]}')\n",
    "    plt.xticks(rotation=20)\n",
    "    plt.ylabel('SNR [dB]')\n",
    "    k += 1\n",
    "    \n",
    "plt.tight_layout()\n",
    "\n",
    "fig.savefig(f'longterm_SNR_figures/all_SNRs_201_{peak_name}.png',dpi=300)"
   ]
  },
  {
   "cell_type": "code",
   "execution_count": null,
   "metadata": {},
   "outputs": [],
   "source": [
    "fig, axes = plt.subplots(2,3,figsize=(15,5))\n",
    "k = 0\n",
    "for ax in fig.get_axes():\n",
    "    ax.plot(num_availables[k])\n",
    "\n",
    "    plt.sca(ax)\n",
    "    plt.grid()\n",
    "    plt.title(f'SNR for {years[k]}')\n",
    "    \n",
    "    k += 1\n",
    "    \n",
    "plt.tight_layout()"
   ]
  },
  {
   "cell_type": "markdown",
   "metadata": {},
   "source": [
    "# Seperate into Months"
   ]
  },
  {
   "cell_type": "code",
   "execution_count": null,
   "metadata": {},
   "outputs": [],
   "source": [
    "SNR_month_all = []\n",
    "for k in range(6):\n",
    "    num_hours = len(SNRs_mask[k])\n",
    "    num_split = m.trunc(num_hours/12)*12\n",
    "    \n",
    "    x = np.split(SNRs_mask[k][:num_split],12)\n",
    "    \n",
    "    SNR_month = np.zeros((12,1))\n",
    "    for n in range(12):\n",
    "        SNR_month[n] = np.mean(x[n])\n",
    "        \n",
    "    SNR_month_all.append(SNR_month)"
   ]
  },
  {
   "cell_type": "code",
   "execution_count": null,
   "metadata": {},
   "outputs": [],
   "source": [
    "SNR_month_all_array = np.ndarray.flatten(np.array(SNR_month_all))\n",
    "years = [2015, 2016, 2017, 2018, 2019, 2020]\n",
    "years2 = [val for val in years for _ in range(12)]\n",
    "months = ['January','February','March','April','May','June','July','August','September','October','November','December']*6\n",
    "\n",
    "d = {'year':years2, 'month':months, 'SNR':SNR_month_all_array}"
   ]
  },
  {
   "cell_type": "code",
   "execution_count": null,
   "metadata": {},
   "outputs": [],
   "source": [
    "df = pd.DataFrame.from_dict(data=d)\n",
    "df"
   ]
  },
  {
   "cell_type": "code",
   "execution_count": null,
   "metadata": {},
   "outputs": [],
   "source": [
    "cp = sns.color_palette('Set2')\n",
    "fig, ax = plt.subplots(1,1,figsize=(10,7))\n",
    "\n",
    "ax = sns.barplot(x=\"month\", y=\"SNR\", hue=\"year\", data=df, palette=cp)\n",
    "plt.sca(ax)\n",
    "plt.xticks(rotation=45)\n",
    "plt.legend(loc=\"lower right\", ncol=len(df.columns))\n",
    "plt.title('Average SNR for Each Month')\n",
    "plt.ylabel('SNR [dB]')\n",
    "\n",
    "fig.savefig(f'longterm_SNR_figures/SNR_for_every_month_{peak_name}.png',dpi=200)"
   ]
  },
  {
   "cell_type": "code",
   "execution_count": null,
   "metadata": {},
   "outputs": [],
   "source": [
    "cp = sns.color_palette('Set2')\n",
    "fig, ax = plt.subplots(1,1,figsize=(10,7))\n",
    "\n",
    "ax = sns.barplot(x=\"month\", y=\"SNR\", data=df, palette=cp)\n",
    "plt.sca(ax)\n",
    "plt.xticks(rotation=45)\n",
    "plt.title('Average SNR for Each Month')\n",
    "plt.ylabel('SNR [dB]')\n",
    "\n",
    "fig.savefig(f'longterm_SNR_figures/SNR_for_every_month_avg_{peak_name}.png',dpi=200)"
   ]
  },
  {
   "cell_type": "code",
   "execution_count": null,
   "metadata": {},
   "outputs": [],
   "source": []
  }
 ],
 "metadata": {
  "kernelspec": {
   "display_name": "Python 3",
   "language": "python",
   "name": "python3"
  },
  "language_info": {
   "codemirror_mode": {
    "name": "ipython",
    "version": 3
   },
   "file_extension": ".py",
   "mimetype": "text/x-python",
   "name": "python",
   "nbconvert_exporter": "python",
   "pygments_lexer": "ipython3",
   "version": "3.7.7"
  }
 },
 "nbformat": 4,
 "nbformat_minor": 4
}

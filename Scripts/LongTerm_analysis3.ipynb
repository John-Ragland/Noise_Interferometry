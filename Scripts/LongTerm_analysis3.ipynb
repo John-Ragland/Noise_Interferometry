{
 "cells": [
  {
   "cell_type": "code",
   "execution_count": 142,
   "metadata": {},
   "outputs": [
    {
     "name": "stdout",
     "output_type": "stream",
     "text": [
      "The autoreload extension is already loaded. To reload it, use:\n",
      "  %reload_ext autoreload\n"
     ]
    }
   ],
   "source": [
    "import Noise_Interferometry\n",
    "import pickle\n",
    "from matplotlib import pyplot as plt\n",
    "import numpy as np\n",
    "import pandas as pd\n",
    "import seaborn as sns\n",
    "import math as m\n",
    "\n",
    "# Some more magic so that the notebook will reload external python modules;\n",
    "# see http://stackoverflow.com/questions/1907993/autoreload-of-modules-in-ipython\n",
    "%load_ext autoreload\n",
    "%autoreload 2"
   ]
  },
  {
   "cell_type": "code",
   "execution_count": 143,
   "metadata": {},
   "outputs": [
    {
     "name": "stdout",
     "output_type": "stream",
     "text": [
      "Loading 2015...\n",
      "   Calculating dA...\n",
      "   Calculating s1b0A...\n",
      "   Calculating s2b1A...\n",
      "   Calculating dB...\n"
     ]
    },
    {
     "name": "stderr",
     "output_type": "stream",
     "text": [
      "/Users/jhrag/Code/ocean_acoustics/Noise_Interferometry/Modules/analysis.py:1200: UserWarning: Peak index jumps more than 3 in single step\n",
      "  warnings.warn('Peak index jumps more than 3 in single step')\n"
     ]
    },
    {
     "name": "stdout",
     "output_type": "stream",
     "text": [
      "   Calculating s1b0B...\n",
      "   Calculating s2b1B...\n",
      "Loading 2016...\n",
      "   Calculating dA...\n",
      "   Calculating s1b0A...\n",
      "   Calculating s2b1A...\n",
      "   Calculating dB...\n",
      "   Calculating s1b0B...\n",
      "   Calculating s2b1B...\n",
      "Loading 2017...\n",
      "   Calculating dA...\n",
      "   Calculating s1b0A...\n",
      "   Calculating s2b1A...\n",
      "   Calculating dB...\n",
      "   Calculating s1b0B...\n",
      "   Calculating s2b1B...\n",
      "Loading 2018...\n",
      "   Calculating dA...\n",
      "   Calculating s1b0A...\n",
      "   Calculating s2b1A...\n",
      "   Calculating dB...\n",
      "   Calculating s1b0B...\n",
      "   Calculating s2b1B...\n",
      "Loading 2019...\n",
      "   Calculating dA...\n",
      "   Calculating s1b0A...\n",
      "   Calculating s2b1A...\n",
      "   Calculating dB...\n",
      "   Calculating s1b0B...\n",
      "   Calculating s2b1B...\n",
      "Loading 2020...\n",
      "   Calculating dA...\n",
      "   Calculating s1b0A...\n",
      "   Calculating s2b1A...\n",
      "   Calculating dB...\n",
      "   Calculating s1b0B...\n",
      "   Calculating s2b1B...\n"
     ]
    }
   ],
   "source": [
    "years = [2015, 2016, 2017, 2018, 2019, 2020]\n",
    "peak_names = ['dA','s1b0A','s2b1A','dB','s1b0B','s2b1B']\n",
    "avg_time = 601\n",
    "\n",
    "SNR_by_year = []\n",
    "peak_idx_by_year = []\n",
    "dates = []\n",
    "num_availables = []\n",
    "\n",
    "for year in years:\n",
    "    print(f'Loading {year}...')\n",
    "    \n",
    "    file_name = f'/Volumes/Ocean_Acoustics/NCCFs/MJ03F-MJ03E/Longterm_MA_{year}_{avg_time}.pkl'\n",
    "    long_term = pickle.load(open(file_name,'rb'))\n",
    "    dates.append(long_term.dates)\n",
    "    num_availables.append(np.array(long_term.num_available))\n",
    "    \n",
    "    SNR_by_peak = []\n",
    "    peak_idx_by_peak = []\n",
    "    for peak_name in peak_names:\n",
    "        print(f'   Calculating {peak_name}...')\n",
    "        SNR, peak_idx, _ = long_term.snr_of_peak_amp(peak_name)\n",
    "        SNR_by_peak.append(SNR)\n",
    "        peak_idx_by_peak.append(peak_idx)\n",
    "        \n",
    "    SNR_by_year.append(SNR_by_peak)\n",
    "    peak_idx_by_year.append(peak_idx_by_peak)"
   ]
  },
  {
   "cell_type": "markdown",
   "metadata": {},
   "source": [
    "## Create Num_hours Threshold and create masked array"
   ]
  },
  {
   "cell_type": "code",
   "execution_count": 144,
   "metadata": {},
   "outputs": [],
   "source": [
    "threshold = 100\n",
    "\n",
    "SNRs_mask = []\n",
    "\n",
    "for year in range(6):\n",
    "    SNR_peak_mask = []\n",
    "    for peak in range(6):\n",
    "        mask = (~(num_availables[year] >= threshold))\n",
    "        SNR_peak_mask.append(np.ma.masked_array(SNR_by_year[year][peak],mask=mask))\n",
    "    SNRs_mask.append(SNR_peak_mask)\n"
   ]
  },
  {
   "cell_type": "markdown",
   "metadata": {},
   "source": [
    "# Create Yearlong SNR_Plots"
   ]
  },
  {
   "cell_type": "code",
   "execution_count": 145,
   "metadata": {},
   "outputs": [
    {
     "name": "stdout",
     "output_type": "stream",
     "text": [
      "Plotting for dA\n",
      "Plotting for s1b0A\n",
      "Plotting for s2b1A\n",
      "Plotting for dB\n",
      "Plotting for s1b0B\n",
      "Plotting for s2b1B\n"
     ]
    }
   ],
   "source": [
    "peak_names = ['dA','s1b0A','s2b1A','dB','s1b0B','s2b1B']\n",
    "peak_count = 0\n",
    "for peak_name in peak_names:  \n",
    "    print(f'Plotting for {peak_name}')\n",
    "    fig, axes = plt.subplots(2,3,figsize=(15,5))\n",
    "    k = 0\n",
    "    for ax in fig.get_axes():\n",
    "        ax.plot(dates[k], SNRs_mask[k][peak_count])\n",
    "\n",
    "        plt.sca(ax)\n",
    "        plt.grid()\n",
    "        plt.title(f'SNR for {years[k]}')\n",
    "        plt.xticks(rotation=20)\n",
    "        plt.ylabel('SNR [dB]')\n",
    "        k += 1\n",
    "\n",
    "    plt.tight_layout()\n",
    "\n",
    "    fig.savefig(f'longterm_SNR_figures/{avg_time}/SNRs_by_year_{peak_name}.png',dpi=300)\n",
    "    plt.close()\n",
    "    \n",
    "    peak_count += 1"
   ]
  },
  {
   "cell_type": "code",
   "execution_count": 146,
   "metadata": {},
   "outputs": [],
   "source": [
    "fig, axes = plt.subplots(2,3,figsize=(15,5))\n",
    "k = 0\n",
    "for ax in fig.get_axes():\n",
    "    ax.plot(dates[k], num_availables[k])\n",
    "\n",
    "    plt.sca(ax)\n",
    "    plt.grid()\n",
    "    plt.title(f'Num Available for {years[k]}')\n",
    "    plt.xticks(rotation=20)\n",
    "    plt.ylabel('SNR [dB]')\n",
    "    k += 1\n",
    "\n",
    "plt.tight_layout()\n",
    "\n",
    "fig.savefig(f'longterm_SNR_figures/{avg_time}/num_available_by_year.png',dpi=300)\n",
    "plt.close()\n"
   ]
  },
  {
   "cell_type": "code",
   "execution_count": 147,
   "metadata": {},
   "outputs": [
    {
     "name": "stdout",
     "output_type": "stream",
     "text": [
      "Plotting for dA\n",
      "Plotting for s1b0A\n",
      "Plotting for s2b1A\n",
      "Plotting for dB\n",
      "Plotting for s1b0B\n",
      "Plotting for s2b1B\n"
     ]
    }
   ],
   "source": [
    "peak_names = ['dA','s1b0A','s2b1A','dB','s1b0B','s2b1B']\n",
    "peak_count = 0\n",
    "for peak_name in peak_names:  \n",
    "    print(f'Plotting for {peak_name}')\n",
    "    fig, axes = plt.subplots(2,3,figsize=(15,5))\n",
    "    k = 0\n",
    "    for ax in fig.get_axes():\n",
    "        ax.plot(dates[k], peak_idx_by_year[k][peak_count])\n",
    "\n",
    "        plt.sca(ax)\n",
    "        plt.grid()\n",
    "        plt.title(f'Peak Index for {years[k]}')\n",
    "        plt.xticks(rotation=20)\n",
    "        plt.ylabel('Peak Index [time bin]')\n",
    "        k += 1\n",
    "\n",
    "    plt.tight_layout()\n",
    "\n",
    "    fig.savefig(f'longterm_SNR_figures/{avg_time}/Peak_Idx_by_year_{peak_name}.png',dpi=300)\n",
    "    plt.close()\n",
    "    \n",
    "    peak_count += 1"
   ]
  },
  {
   "cell_type": "markdown",
   "metadata": {},
   "source": [
    "# Month Long Bar Plots"
   ]
  },
  {
   "cell_type": "code",
   "execution_count": 148,
   "metadata": {},
   "outputs": [],
   "source": [
    "for peak in range(6):\n",
    "    # Generate Dataframe with [year] [month] [snr] columns\n",
    "\n",
    "    SNR_month_all = []\n",
    "    for k in range(6):\n",
    "        num_hours = len(SNRs_mask[k][peak])\n",
    "        num_split = m.trunc(num_hours/12)*12\n",
    "\n",
    "        x = np.split(SNRs_mask[k][peak][:num_split],12)\n",
    "\n",
    "        SNR_month = np.zeros((12,1))\n",
    "        for n in range(12):\n",
    "            SNR_month[n] = np.mean(x[n])\n",
    "\n",
    "        SNR_month_all.append(SNR_month)\n",
    "\n",
    "    SNR_month_all_array = np.ndarray.flatten(np.array(SNR_month_all))\n",
    "    years = [2015, 2016, 2017, 2018, 2019, 2020]\n",
    "    years2 = [val for val in years for _ in range(12)]\n",
    "    months = ['January','February','March','April','May','June','July','August','September','October','November','December']*6\n",
    "\n",
    "    d = {'year':years2, 'month':months, 'SNR':SNR_month_all_array}\n",
    "\n",
    "    df = pd.DataFrame.from_dict(data=d)\n",
    "    \n",
    "    cp = sns.color_palette('Set2')\n",
    "    fig1, ax1 = plt.subplots(1,1,figsize=(10,7))\n",
    "\n",
    "    ax1 = sns.barplot(x=\"month\", y=\"SNR\", hue=\"year\", data=df, palette=cp)\n",
    "    plt.sca(ax1)\n",
    "    plt.xticks(rotation=45)\n",
    "    plt.legend(loc=\"lower right\", ncol=len(df.columns))\n",
    "    plt.title('Average SNR for Each Month')\n",
    "    plt.ylabel('SNR [dB]')\n",
    "\n",
    "    fig1.savefig(f'longterm_SNR_figures/{avg_time}/SNR_for_every_month_{peak_names[peak]}.png',dpi=200)\n",
    "    \n",
    "    plt.close()\n",
    "    \n",
    "    cp = sns.color_palette('Set2')\n",
    "    fig2, ax2 = plt.subplots(1,1,figsize=(10,7))\n",
    "\n",
    "    ax2 = sns.barplot(x=\"month\", y=\"SNR\", data=df, palette=cp)\n",
    "    plt.sca(ax2)\n",
    "    plt.xticks(rotation=45)\n",
    "    plt.title('Average SNR for Each Month')\n",
    "    plt.ylabel('SNR [dB]')\n",
    "\n",
    "    fig2.savefig(f'longterm_SNR_figures/{avg_time}/SNR_for_every_month_avg_{peak_names[peak]}.png',dpi=200)\n",
    "    plt.close()"
   ]
  },
  {
   "cell_type": "code",
   "execution_count": 149,
   "metadata": {},
   "outputs": [
    {
     "data": {
      "text/plain": [
       "'s2b1A'"
      ]
     },
     "execution_count": 149,
     "metadata": {},
     "output_type": "execute_result"
    }
   ],
   "source": [
    "peak_names[2]"
   ]
  },
  {
   "cell_type": "code",
   "execution_count": null,
   "metadata": {},
   "outputs": [],
   "source": []
  },
  {
   "cell_type": "code",
   "execution_count": null,
   "metadata": {},
   "outputs": [],
   "source": []
  },
  {
   "cell_type": "code",
   "execution_count": null,
   "metadata": {},
   "outputs": [],
   "source": []
  }
 ],
 "metadata": {
  "kernelspec": {
   "display_name": "Python 3",
   "language": "python",
   "name": "python3"
  },
  "language_info": {
   "codemirror_mode": {
    "name": "ipython",
    "version": 3
   },
   "file_extension": ".py",
   "mimetype": "text/x-python",
   "name": "python",
   "nbconvert_exporter": "python",
   "pygments_lexer": "ipython3",
   "version": "3.7.7"
  }
 },
 "nbformat": 4,
 "nbformat_minor": 4
}

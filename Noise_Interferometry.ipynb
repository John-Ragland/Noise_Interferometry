{
 "cells": [
  {
   "cell_type": "markdown",
   "metadata": {},
   "source": [
    "# Noise Interferometry Test\n",
    "This tests the functionality of the noise interferometry module of ooipy\n",
    "\n",
    "## Sections\n",
    "- Compute Cross Correlation for specified window"
   ]
  },
  {
   "cell_type": "markdown",
   "metadata": {},
   "source": [
    "First, let's import all dependancies"
   ]
  },
  {
   "cell_type": "code",
   "execution_count": 5,
   "metadata": {},
   "outputs": [
    {
     "name": "stdout",
     "output_type": "stream",
     "text": [
      "The autoreload extension is already loaded. To reload it, use:\n",
      "  %reload_ext autoreload\n"
     ]
    }
   ],
   "source": [
    "import os\n",
    "import sys\n",
    "cwd = os.getcwd()\n",
    "ooipy_dir = os.path.dirname(cwd) + '/ooipy'\n",
    "sys.path.append(ooipy_dir)\n",
    "from matplotlib import pyplot as plt\n",
    "import datetime\n",
    "import numpy as np\n",
    "from obspy import read,Stream, Trace\n",
    "from obspy.core import UTCDateTime\n",
    "from ooipy.hydrophone import Noise_Interferometry\n",
    "import pickle\n",
    "\n",
    "# Some more magic so that the notebook will reload external python modules;\n",
    "# see http://stackoverflow.com/questions/1907993/autoreload-of-modules-in-ipython\n",
    "%load_ext autoreload\n",
    "%autoreload 2"
   ]
  },
  {
   "cell_type": "markdown",
   "metadata": {},
   "source": [
    "## Reading in Checkpoints"
   ]
  },
  {
   "cell_type": "code",
   "execution_count": 20,
   "metadata": {},
   "outputs": [
    {
     "name": "stdout",
     "output_type": "stream",
     "text": [
      "Checkpoint for k = 0\n"
     ]
    },
    {
     "data": {
      "image/png": "[encoded data removed]",
      "text/plain": [
       "<Figure size 432x288 with 1 Axes>"
      ]
     },
     "metadata": {
      "needs_background": "light"
     },
     "output_type": "display_data"
    }
   ],
   "source": [
    "ckpt_name = './ckpts/ckpt_0.pkl'\n",
    "\n",
    "with open(ckpt_name, 'rb') as f:\n",
    "    xcorr = pickle.load(f)\n",
    "    k = pickle.load(f)\n",
    "\n",
    "print('Checkpoint for k =',k)\n",
    "\n",
    "#Plot Xcorr\n",
    "dt = 1/64000\n",
    "t = np.arange(-xcorr.shape[0]*dt/2,xcorr.shape[0]*dt/2,dt)\n",
    "\n",
    "plt.plot(t,xcorr)\n",
    "plt.grid()"
   ]
  },
  {
   "cell_type": "markdown",
   "metadata": {},
   "source": [
    "## Compute Cross Correlation for Specified Window"
   ]
  },
  {
   "cell_type": "code",
   "execution_count": 28,
   "metadata": {
    "tags": []
   },
   "outputs": [
    {
     "name": "stdout",
     "output_type": "stream",
     "text": [
      "Distance Between Hydrophones:  38897.93618108771  meters\n",
      "Estimate Time Delay Between Hydrophones:  26.28238931154575  seconds\n",
      "Bearing Between Hydrophone 1 and 2:  297.28608345  degrees\n"
     ]
    }
   ],
   "source": [
    "num_periods = 5\n",
    "avg_time = 1 #minutes\n",
    "start_time = datetime.datetime(2017,3,10,0,0,0) # time of first sample\n",
    "node1 = '/LJ01C'\n",
    "node2 = '/PC01A'\n",
    "filter_data = True\n",
    "\n",
    "#Initialize Hydrophone Xcorr Class\n",
    "hyd_xcorr = Noise_Interferometry.Hydrophone_Xcorr(node1=node1, node2=node2, avg_time=avg_time, mp=True, W=60, filter_data=filter_data)"
   ]
  },
  {
   "cell_type": "code",
   "execution_count": 29,
   "metadata": {
    "tags": []
   },
   "outputs": [
    {
     "name": "stdout",
     "output_type": "stream",
     "text": [
      "\n",
      "\n",
      "Time Period:  1\n",
      "Getting Audio from Node 1...\n",
      "Fetching URLs...\n",
      "Sorting valid URLs for Time Window...\n",
      "Downloading mseed files...\n",
      "Getting Audio from Node 2...\n",
      "Fetching URLs...\n",
      "Sorting valid URLs for Time Window...\n",
      "Downloading mseed files...\n",
      "Time to Download Data from Server:  7.07540225982666\n",
      "Filtering Data...\n",
      "Correlating Data...\n",
      "Time to Calculate Cross Correlation of 1 period:  0.6478612422943115\n",
      "\n",
      "\n",
      "Time Period:  2\n",
      "Getting Audio from Node 1...\n",
      "Fetching URLs...\n",
      "Sorting valid URLs for Time Window...\n",
      "Downloading mseed files...\n",
      "Getting Audio from Node 2...\n",
      "Fetching URLs...\n",
      "Sorting valid URLs for Time Window...\n",
      "Downloading mseed files...\n",
      "Time to Download Data from Server:  7.002065658569336\n",
      "Filtering Data...\n",
      "Correlating Data...\n",
      "Time to Calculate Cross Correlation of 1 period:  0.6677303314208984\n",
      "\n",
      "\n",
      "Time Period:  3\n",
      "Getting Audio from Node 1...\n",
      "Fetching URLs...\n",
      "Sorting valid URLs for Time Window...\n",
      "Downloading mseed files...\n",
      "Getting Audio from Node 2...\n",
      "Fetching URLs...\n",
      "Sorting valid URLs for Time Window...\n",
      "Downloading mseed files...\n",
      "Time to Download Data from Server:  7.3709940910339355\n",
      "Filtering Data...\n",
      "Correlating Data...\n",
      "Time to Calculate Cross Correlation of 1 period:  0.61846923828125\n",
      "\n",
      "\n",
      "Time Period:  4\n",
      "Getting Audio from Node 1...\n",
      "Fetching URLs...\n",
      "Sorting valid URLs for Time Window...\n",
      "Downloading mseed files...\n",
      "Getting Audio from Node 2...\n",
      "Fetching URLs...\n",
      "Sorting valid URLs for Time Window...\n",
      "Downloading mseed files...\n",
      "Time to Download Data from Server:  7.694207668304443\n",
      "Filtering Data...\n",
      "Correlating Data...\n",
      "Time to Calculate Cross Correlation of 1 period:  0.6470644474029541\n",
      "\n",
      "\n",
      "Time Period:  5\n",
      "Getting Audio from Node 1...\n",
      "Fetching URLs...\n",
      "Sorting valid URLs for Time Window...\n",
      "Downloading mseed files...\n",
      "Getting Audio from Node 2...\n",
      "Fetching URLs...\n",
      "Sorting valid URLs for Time Window...\n",
      "Downloading mseed files...\n",
      "Time to Download Data from Server:  7.630956411361694\n",
      "Filtering Data...\n",
      "Correlating Data...\n",
      "Time to Calculate Cross Correlation of 1 period:  0.652843713760376\n"
     ]
    },
    {
     "data": {
      "image/png": "[encoded data removed]",
      "text/plain": [
       "<Figure size 432x288 with 1 Axes>"
      ]
     },
     "metadata": {
      "needs_background": "light"
     },
     "output_type": "display_data"
    }
   ],
   "source": [
    "# Average Cross Correlation Over Specified time\n",
    "hyd_xcorr.avg_over_mult_periods(num_periods, start_time)"
   ]
  },
  {
   "cell_type": "markdown",
   "metadata": {},
   "source": [
    "## Testing List of Functions ReWrite"
   ]
  },
  {
   "cell_type": "code",
   "execution_count": 39,
   "metadata": {},
   "outputs": [
    {
     "name": "stdout",
     "output_type": "stream",
     "text": [
      "Getting Audio from Node 1...\n",
      "Fetching URLs...\n",
      "Sorting valid URLs for Time Window...\n",
      "Downloading mseed files...\n",
      "Getting Audio from Node 2...\n",
      "Fetching URLs...\n",
      "Sorting valid URLs for Time Window...\n",
      "Downloading mseed files...\n",
      "Filtering Data...\n",
      "Correlating Data...\n",
      "Time to Calculate NCF for 1 Average Period:  9.08384919166565\n"
     ]
    }
   ],
   "source": [
    "num_periods = 5\n",
    "avg_time = 1 #minutes\n",
    "start_time = datetime.datetime(2017,3,10,0,0,0) # time of first sample\n",
    "node1 = '/LJ01C'\n",
    "node2 = '/PC01A'\n",
    "filter_data = True\n",
    "W = 30\n",
    "\n",
    "Noise_Interferometry.calculate_NCF(node1, node2, avg_time, start_time, W=30, verbose=True, filter_data=filter_data)"
   ]
  },
  {
   "cell_type": "code",
   "execution_count": 47,
   "metadata": {},
   "outputs": [
    {
     "name": "stdout",
     "output_type": "stream",
     "text": [
      "Calculting NCF for Period 1:\n",
      "   Getting Audio from Node 1...\n",
      "   Getting Audio from Node 2...\n",
      "   Filtering Data...\n",
      "   Correlating Data...\n",
      "   Time to Calculate NCF for 1 Average Period: 9.022732734680176 \n",
      "\n",
      "\n",
      "Calculting NCF for Period 2:\n",
      "   Getting Audio from Node 1...\n",
      "   Getting Audio from Node 2...\n",
      "   Filtering Data...\n",
      "   Correlating Data...\n",
      "   Time to Calculate NCF for 1 Average Period: 9.430347681045532 \n",
      "\n",
      "\n",
      "Calculting NCF for Period 3:\n",
      "   Getting Audio from Node 1...\n",
      "   Getting Audio from Node 2...\n",
      "   Filtering Data...\n",
      "   Correlating Data...\n",
      "   Time to Calculate NCF for 1 Average Period: 9.107947826385498 \n",
      "\n",
      "\n",
      "Calculting NCF for Period 4:\n",
      "   Getting Audio from Node 1...\n",
      "   Getting Audio from Node 2...\n",
      "   Filtering Data...\n",
      "   Correlating Data...\n",
      "   Time to Calculate NCF for 1 Average Period: 9.048683643341064 \n",
      "\n",
      "\n",
      "Calculting NCF for Period 5:\n",
      "   Getting Audio from Node 1...\n",
      "   Getting Audio from Node 2...\n",
      "   Filtering Data...\n",
      "   Correlating Data...\n",
      "   Time to Calculate NCF for 1 Average Period: 9.040868043899536 \n",
      "\n",
      "\n"
     ]
    }
   ],
   "source": [
    "Noise_Interferometry.calculate_NCF_loop(num_periods, node1, node2, avg_time, start_time, count, W=30, verbose=True)"
   ]
  },
  {
   "cell_type": "code",
   "execution_count": null,
   "metadata": {},
   "outputs": [],
   "source": []
  }
 ],
 "metadata": {
  "kernelspec": {
   "display_name": "Python 3",
   "language": "python",
   "name": "python3"
  },
  "language_info": {
   "codemirror_mode": {
    "name": "ipython",
    "version": 3
   },
   "file_extension": ".py",
   "mimetype": "text/x-python",
   "name": "python",
   "nbconvert_exporter": "python",
   "pygments_lexer": "ipython3",
   "version": "3.7.7"
  }
 },
 "nbformat": 4,
 "nbformat_minor": 2
}
